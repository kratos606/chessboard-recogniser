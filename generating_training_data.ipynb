{
  "nbformat": 4,
  "nbformat_minor": 0,
  "metadata": {
    "colab": {
      "provenance": []
    },
    "kernelspec": {
      "name": "python3",
      "display_name": "Python 3"
    },
    "language_info": {
      "name": "python"
    }
  },
  "cells": [
    {
      "cell_type": "markdown",
      "source": [
        "# **Programmatically Generating Chess Training Datasets using PyQt5 and Lichess**\n",
        "\n",
        "This notebook demonstrates how to programmatically generate training datasets for a chess neural network by capturing\n",
        "chessboard screenshots from Lichess using custom FEN configurations. The screenshots are captured in different\n",
        "configurations with varying themes, piece sets, and backgrounds, allowing for a diverse training dataset.\n",
        "\n",
        "The goal is to create a dataset by generating FENs (Forsyth-Edwards Notation), capturing the corresponding chessboard\n",
        "images from Lichess, and then splitting them into smaller image tiles that can be fed into a neural network for\n",
        "training purposes. This is an improvement over manually capturing screenshots and ensures more comprehensive coverage\n",
        "of possible chessboard configurations.\n",
        "\n",
        "Previously, the training data consisted of manually captured screenshots of starter boards. This new approach allows\n",
        "for programmatic FEN generation, automated screenshot capture, and dataset creation with better accuracy and coverage."
      ],
      "metadata": {
        "id": "XoPrbBsOKp7A"
      }
    },
    {
      "cell_type": "code",
      "execution_count": null,
      "metadata": {
        "id": "4B3Pvc-SKlQC"
      },
      "outputs": [],
      "source": [
        "!pip install PyQt5\n",
        "!pip install PyQtWebEngine\n",
        "!pip install Pillow\n",
        "import sys, os\n",
        "import numpy as np\n",
        "from PyQt5.QtWidgets import QApplication\n",
        "from PyQt5.QtCore import Qt, QUrl, QTimer\n",
        "from PyQt5.QtWebEngineWidgets import QWebEngineView, QWebEngineSettings\n",
        "from PyQt5.QtGui import QImage, QPainter  # Import necessary modules\n",
        "from PIL import Image\n",
        "import urllib.parse"
      ]
    },
    {
      "cell_type": "markdown",
      "source": [
        "# **Generating a Random FEN (Forsyth-Edwards Notation)**\n",
        "This function, getRandomFEN(), generates a random FEN string representing a random arrangement of chess pieces on a chessboard. It selects from standard chess piece symbols (kings, queens, rooks, bishops, knights, pawns for both black and white) or empty squares, places them on an 8x8 grid, and formats the result as a FEN string. This can be used for creating randomized chess positions for simulations, testing, or training datasets."
      ],
      "metadata": {
        "id": "0epUBCh0L6go"
      }
    },
    {
      "cell_type": "code",
      "source": [
        "def getRandomFEN():\n",
        "    fen_chars = list('1KQRBNPkqrbnp')\n",
        "    pieces = np.random.choice(fen_chars, 64)\n",
        "    fen = '/'.join([''.join(pieces[i*8:(i+1)*8]) for i in range(8)])\n",
        "    return fen"
      ],
      "metadata": {
        "id": "LZdC4IH-L3Dj"
      },
      "execution_count": null,
      "outputs": []
    },
    {
      "cell_type": "markdown",
      "source": [
        "# **Automated Screenshot Capture for Random Chess Board Configurations**\n",
        "This Screenshot class, which extends QWebEngineView, is designed to automate the process of capturing screenshots of chessboards based on random FEN configurations. It iterates over various themes, piece sets, and backgrounds from lichess.org to generate training datasets for machine learning models.\n",
        "\n",
        "\n",
        "\n",
        "*   The `capture()` method loads a webpage with a chessboard setup from a given URL and captures the rendered board as an image.\n",
        "*   The `on_loaded()` and `take_screenshot()` methods ensure the webpage is fully rendered before taking the screenshot and saving it.\n",
        "*   The `process_next()` method iterates over all the possible combinations of themes, pieces, and backgrounds, updating the FEN, and capturing new screenshots, repeating the process until all configurations are covered.\n",
        "\n",
        "This class is useful for programmatically generating diverse chessboard images as data for training AI models in chess recognition tasks."
      ],
      "metadata": {
        "id": "1aJGixoVMmUw"
      }
    },
    {
      "cell_type": "code",
      "source": [
        "class Screenshot(QWebEngineView):\n",
        "\n",
        "    def __init__(self):\n",
        "        super().__init__()\n",
        "        self.current_index = 0\n",
        "        self.total_screenshots = 0\n",
        "        self.output_filenames = []\n",
        "        self.theme_index = 0\n",
        "        self.piece_index = 0\n",
        "        self.background_index = 0\n",
        "        self.themes = []\n",
        "        self.pieceSets = []\n",
        "        self.backgrounds = []\n",
        "        self.out_folder = ''\n",
        "\n",
        "    def capture(self, url, output_file, total_screenshots, output_filenames, themes, pieceSets, backgrounds, out_folder):\n",
        "        self.output_file = output_file\n",
        "        self.total_screenshots = total_screenshots\n",
        "        self.output_filenames = output_filenames\n",
        "        self.themes = themes\n",
        "        self.pieceSets = pieceSets\n",
        "        self.backgrounds = backgrounds\n",
        "        self.out_folder = out_folder\n",
        "        print(f\"Loading URL: {url}\")\n",
        "        print(f\"Output file: {self.output_file}\")\n",
        "\n",
        "        # Disconnect previous connections to avoid multiple triggers\n",
        "        try:\n",
        "            self.loadFinished.disconnect(self.on_loaded)\n",
        "        except TypeError:\n",
        "            pass  # No previous connections\n",
        "\n",
        "        self.loadFinished.connect(self.on_loaded)\n",
        "        self.setAttribute(Qt.WA_DontShowOnScreen)\n",
        "\n",
        "        # Disable scrollbars\n",
        "        self.page().settings().setAttribute(QWebEngineSettings.ShowScrollBars, False)\n",
        "        self.page().setBackgroundColor(Qt.transparent)\n",
        "        # Load the URL\n",
        "        self.load(QUrl(url))\n",
        "        self.resize(1920, 1080)  # Ensure the size is set before showing\n",
        "        self.show()\n",
        "\n",
        "    def on_loaded(self, ok):\n",
        "        if ok:\n",
        "            # Ensure that the page is fully rendered\n",
        "            QTimer.singleShot(1000, self.take_screenshot)\n",
        "        else:\n",
        "            print(\"Page failed to load.\")\n",
        "            QTimer.singleShot(1000, self.process_next)\n",
        "\n",
        "    def take_screenshot(self):\n",
        "        try:\n",
        "            # Create an image with the size of the QWebEngineView\n",
        "            image = QImage(self.size(), QImage.Format_ARGB32)\n",
        "            painter = QPainter(image)\n",
        "            self.render(painter)  # Render the QWebEngineView content into the image\n",
        "            painter.end()\n",
        "            if image.isNull():\n",
        "                print(\"Failed to capture image\")\n",
        "                QTimer.singleShot(1000, self.process_next)\n",
        "                return\n",
        "            image.save(self.output_file)\n",
        "            print(f\"Screenshot saved to {self.output_file}\")\n",
        "            QTimer.singleShot(1000, self.process_next)\n",
        "        except Exception as e:\n",
        "            print(f\"Error taking screenshot: {e}\")\n",
        "            QTimer.singleShot(1000, self.process_next)\n",
        "\n",
        "    def process_next(self):\n",
        "        if os.path.exists(self.output_file):\n",
        "            try:\n",
        "                im = Image.open(self.output_file).crop([488, 167, 1118, 797])\n",
        "                im.save(self.output_file)\n",
        "            except Exception as e:\n",
        "                print(f\"Error processing image: {e}\")\n",
        "            self.current_index += 1\n",
        "\n",
        "            # Update indices for theme, piece set, and background before generating the next screenshot\n",
        "            if self.current_index >= self.total_screenshots:\n",
        "                self.current_index = 0\n",
        "                self.theme_index += 1  # Increment the theme first\n",
        "\n",
        "                # After all themes are used, move to the next piece set\n",
        "                if self.theme_index >= len(self.themes):\n",
        "                    self.theme_index = 0  # Reset the theme index\n",
        "                    self.piece_index += 1  # Increment the piece set\n",
        "\n",
        "                    # After all piece sets are used, move to the next background\n",
        "                    if self.piece_index >= len(self.pieceSets):\n",
        "                        self.piece_index = 0  # Reset the piece set index\n",
        "                        self.background_index += 1  # Increment the background\n",
        "\n",
        "                        # If all backgrounds have been used, stop the app\n",
        "                        if self.background_index >= len(self.backgrounds):\n",
        "                            self.app.quit()  # Quit the app when all combinations are done\n",
        "                            return\n",
        "\n",
        "            print(f\"Theme: {self.themes[self.theme_index]}, Piece: {self.pieceSets[self.piece_index]}, Background: {self.backgrounds[self.background_index]}\")\n",
        "            fen = getRandomFEN().replace('/', '-')\n",
        "            next_output_file = f\"{self.out_folder}/{fen}.png\"\n",
        "            theme = self.themes[self.theme_index]\n",
        "            piece = self.pieceSets[self.piece_index]\n",
        "            background = self.backgrounds[self.background_index]\n",
        "\n",
        "            url = f\"https://lichess.org/editor/{fen.replace('-', '/')}?theme={theme}&pieceSet={piece}&bg={background}\"\n",
        "            print(f\"# {self.current_index} : {fen}\")\n",
        "            print(f\"\\tSaved screenshot to '{next_output_file}'\")\n",
        "            self.capture(url, next_output_file, self.total_screenshots, self.output_filenames, self.themes, self.pieceSets, self.backgrounds, self.out_folder)\n",
        "            print(\"\\t...Success\")\n",
        "        else:\n",
        "            print(f\"File not found: {self.output_file}\")\n",
        "            # Wait a bit before retrying\n",
        "            QTimer.singleShot(1000, self.process_next)"
      ],
      "metadata": {
        "id": "_cxU7a7IMYXN"
      },
      "execution_count": null,
      "outputs": []
    },
    {
      "cell_type": "markdown",
      "source": [
        "# **Running the Automated Screenshot Generation Application**\n",
        "This script initiates the PyQt application to automate the process of capturing random chessboard screenshots based on various combinations of themes, piece sets, and backgrounds.\n",
        "\n",
        "*   It initializes the `QApplication` and creates an instance of the `Screenshot` class.\n",
        "*   Several chessboard styles are defined, including themes, piece sets, and a background.\n",
        "*   The script configures the number of screenshots (`N`) to be generated per combination and ensures an output directory (`train_images`) exists.\n",
        "*   For each combination, the script generates a random FEN string, constructs the corresponding URL for the Lichess board editor, and triggers the screenshot capture process.\n",
        "*   After generating the screenshots, the application exits once all combinations have been processed.\n",
        "\n",
        "This setup allows for efficient and automated generation of training data for machine learning models."
      ],
      "metadata": {
        "id": "dwzWKfIfNdQZ"
      }
    },
    {
      "cell_type": "code",
      "source": [
        "app = QApplication(sys.argv)\n",
        "s = Screenshot()\n",
        "s.app = app\n",
        "\n",
        "# Reduced lists for testing, you can expand them later\n",
        "themes = [\n",
        "    \"brown\", \"wood\", \"wood2\", \"wood3\", \"wood4\", \"maple\", \"maple2\",\n",
        "    \"blue\", \"blue2\", \"blue3\", \"canvas\", \"blue-marble\",\n",
        "    \"green\", \"marble\", \"green-plastic\", \"olive\", \"grey\", \"metal\",\n",
        "    \"newspaper\", \"purple\", \"purple-diag\", \"pink\"\n",
        "]\n",
        "pieceSets = [\n",
        "    \"cburnett\", \"merida\", \"alpha\", \"pirouetti\", \"chessnut\", \"chess7\",\n",
        "    \"reillycraig\", \"companion\", \"riohacha\", \"kosal\", \"leipzig\",\n",
        "    \"fantasy\", \"spatial\", \"celtic\", \"california\", \"caliente\", \"pixel\",\n",
        "    \"maestro\", \"fresca\", \"cardinal\", \"gioco\", \"tatiana\", \"staunty\",\n",
        "    \"monarchy\", \"governor\", \"dubrovny\", \"icpieces\", \"mpchess\",\n",
        "    \"kiwen-suwi\", \"letter\", \"shapes\"\n",
        "]\n",
        "backgrounds = [\"light\"]\n",
        "\n",
        "# Number of random screenshots to generate per combination\n",
        "N = 3\n",
        "\n",
        "out_folder = 'train_images'\n",
        "if not os.path.exists(out_folder):\n",
        "    os.makedirs(out_folder, exist_ok=True)\n",
        "\n",
        "fen = getRandomFEN().replace('/', '-')\n",
        "s.output_filenames = [f\"{out_folder}/{fen}.png\" for i in range(N)]\n",
        "print(f\"#0 : {fen}\")\n",
        "print(f\"\\tSaved screenshot to '{s.output_filenames[0]}'\")\n",
        "# URL Encoding for theme, piece, and background\n",
        "theme = urllib.parse.quote(themes[0])\n",
        "piece = urllib.parse.quote(pieceSets[0])\n",
        "bg = urllib.parse.quote(backgrounds[0])\n",
        "url = f\"https://lichess.org/editor/{fen.replace('-', '/')}?theme={theme}&pieceSet={piece}&bg={bg}\"\n",
        "s.capture(url, s.output_filenames[0], N, s.output_filenames, themes, pieceSets, backgrounds, out_folder)\n",
        "print(\"\\t...Success\")\n",
        "\n",
        "sys.exit(app.exec_())"
      ],
      "metadata": {
        "id": "5PP7N1goNUIv"
      },
      "execution_count": null,
      "outputs": []
    }
  ]
}